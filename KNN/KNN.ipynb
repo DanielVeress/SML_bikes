{
 "cells": [
  {
   "cell_type": "markdown",
   "metadata": {},
   "source": [
    "## Notebook that will evaluate the KNN model"
   ]
  },
  {
   "cell_type": "code",
   "execution_count": 1,
   "metadata": {},
   "outputs": [],
   "source": [
    "#importing libraires to use\n",
    "import sklearn.preprocessing as skl_pre\n",
    "import sklearn.neighbors as skl_nb\n",
    "import numpy as np\n",
    "import pandas as pd\n",
    "import matplotlib.pyplot as plt\n",
    "\n",
    "#need to get the processing python file in another directory\n",
    "import sys\n",
    "import os\n",
    "module_path = os.path.abspath(os.path.join('..'))\n",
    "if module_path not in sys.path:\n",
    "    sys.path.append(module_path)\n",
    "from process_data import process_data"
   ]
  },
  {
   "cell_type": "code",
   "execution_count": null,
   "metadata": {},
   "outputs": [
    {
     "name": "stdout",
     "output_type": "stream",
     "text": [
      "Dropped columns: ['snow']\n",
      "New columns: ['good_weather' 'is_day' 'temp_fahrenheit']\n",
      "      hour_of_day  day_of_week  month  holiday  weekday  summertime  temp  \\\n",
      "0               5            5      1        0        0           0  -7.2   \n",
      "1              21            4      1        0        1           0  -1.3   \n",
      "2              21            3      8        0        1           1  26.9   \n",
      "3               1            6      1        0        0           0   3.1   \n",
      "4              17            0      3        0        1           0  11.7   \n",
      "...           ...          ...    ...      ...      ...         ...   ...   \n",
      "1595            3            5      6        0        0           1  21.5   \n",
      "1596           14            0      6        0        1           1  23.2   \n",
      "1597           13            0      3        0        1           1  13.9   \n",
      "1598           14            5      3        0        0           1  11.7   \n",
      "1599           22            6      2        0        0           0   4.2   \n",
      "\n",
      "       dew  humidity  precip  snowdepth  windspeed  cloudcover  visibility  \\\n",
      "0    -15.0     53.68   0.000        0.0       16.3        31.6        16.0   \n",
      "1    -12.8     40.97   0.000        0.0       23.9        85.7        16.0   \n",
      "2     21.8     73.39   0.000        0.0        0.0        81.1        16.0   \n",
      "3     -4.0     59.74   0.000        0.0       19.2         0.0        16.0   \n",
      "4    -11.4     18.71   0.000        0.0       10.5        44.6        16.0   \n",
      "...    ...       ...     ...        ...        ...         ...         ...   \n",
      "1595  19.4     87.68   0.000        0.0       10.6        24.4        16.0   \n",
      "1596  20.1     82.43   2.217        0.0        9.8        92.1        10.4   \n",
      "1597  -2.2     32.93   0.000        2.0       18.2        79.3        16.0   \n",
      "1598  -9.3     22.09   0.000        0.0        5.8        24.4        16.0   \n",
      "1599   1.7     84.11   1.081        0.0       21.9        97.4        16.0   \n",
      "\n",
      "      increase_stock  temp_fahrenheit  good_weather  is_day  \n",
      "0                  0             19.0     -1.215072       0  \n",
      "1                  0             30.0     -0.855581       0  \n",
      "2                  0             80.0      3.560337       0  \n",
      "3                  0             38.0     -0.105065       0  \n",
      "4                  0             53.0     -0.252053       1  \n",
      "...              ...              ...           ...     ...  \n",
      "1595               0             71.0      3.147460       0  \n",
      "1596               0             74.0      3.259527       1  \n",
      "1597               0             57.0      0.000000       1  \n",
      "1598               1             53.0      0.900383       1  \n",
      "1599               0             40.0      0.309842       0  \n",
      "\n",
      "[1600 rows x 18 columns]\n",
      "Split: \"train\" \t[Size: 1120] \t[Prec: 0.7]\n",
      "\tX: (1120, 17)\n",
      "\tY: (1120,)\n",
      "Split: \"valid\" \t[Size: 480] \t[Prec: 0.3]\n",
      "\tX: (480, 17)\n",
      "\tY: (480,)\n",
      "      hour_of_day  day_of_week  month  holiday  weekday  summertime  temp  \\\n",
      "614            20            5      9        0        0           1  21.0   \n",
      "481            11            2      2        0        1           0   4.4   \n",
      "114            21            6      6        0        0           1  24.2   \n",
      "1587           16            1      3        0        1           1  21.7   \n",
      "119             9            1      5        0        1           1  22.8   \n",
      "...           ...          ...    ...      ...      ...         ...   ...   \n",
      "1278           16            1      9        0        1           1  26.6   \n",
      "930            15            6     12        0        0           0  18.9   \n",
      "1340            9            4      3        0        1           1   9.2   \n",
      "1234           16            0      2        1        1           0  13.9   \n",
      "707            20            1      6        0        1           1  30.3   \n",
      "\n",
      "       dew  humidity  precip  snowdepth  windspeed  cloudcover  visibility  \\\n",
      "614   18.9     87.74   0.022        0.0       10.5        98.1        13.1   \n",
      "481   -0.7     69.63   0.000        0.0       12.6         0.0        16.0   \n",
      "114   18.8     71.86   0.000        0.0       17.9        79.3        16.0   \n",
      "1587  -0.1     23.50   0.000        0.0       14.5        44.6        16.0   \n",
      "119   18.3     75.40   0.000        0.0       11.4        44.6        16.0   \n",
      "...    ...       ...     ...        ...        ...         ...         ...   \n",
      "1278  16.7     54.40   0.000        0.0       14.7        80.3        16.0   \n",
      "930    7.3     47.02   0.000        0.0       10.8        81.3        16.0   \n",
      "1340   4.3     71.55   0.000        0.0       21.6       100.0        16.0   \n",
      "1234   4.8     54.08   0.000        0.0       14.4        96.4        16.0   \n",
      "707   15.5     40.70   0.000        0.0        9.9        32.7        16.0   \n",
      "\n",
      "      temp_fahrenheit  good_weather  is_day  \n",
      "614              70.0      3.095840       0  \n",
      "481              40.0      0.171701       1  \n",
      "114              76.0      3.196358       0  \n",
      "1587             71.0      1.860842       1  \n",
      "119              73.0      3.121656       1  \n",
      "...               ...           ...     ...  \n",
      "1278             80.0      3.152445       1  \n",
      "930              66.0      1.249665       1  \n",
      "1340             49.0      1.669976       1  \n",
      "1234             57.0      0.889297       1  \n",
      "707              87.0      3.222281       0  \n",
      "\n",
      "[1120 rows x 17 columns]\n"
     ]
    }
   ],
   "source": [
    "#getting the percentage splits of our training and testing data\n",
    "split_prec = {\n",
    "    'train': 0.7, \n",
    "    'valid': 0.3,\n",
    "}\n",
    "#whatever scaler we will use\n",
    "scaler = skl_pre.MinMaxScaler()\n",
    "scaler = None\n",
    "\n",
    "#get the training and testing data\n",
    "X_train, X_test, Y_train, Y_test = process_data(split_prec, scaler,is_random=False)\n",
    "print(X_train)\n",
    "# print(X_test)"
   ]
  },
  {
   "cell_type": "markdown",
   "metadata": {},
   "source": [
    "### Training  \n",
    "Now that we have our training and test data we will run a KNN model on the training data with k-fold validation for hyperparameter tunning (what is a good value of k, distance measure to use, ect...). Then once we have a decent value of k we will \"retrain\" the model on the entire training data set and use that model on the test data which has never been seen and use the error from that as an estimation of $E_{new}$"
   ]
  },
  {
   "cell_type": "code",
   "execution_count": 3,
   "metadata": {},
   "outputs": [],
   "source": [
    "#returns a trained KNN classifier with the specifications passed\n",
    "def get_fitted_KNN(X,Y, k = 1, met = \"minkowski\"):\n",
    "    classifier = skl_nb.KNeighborsClassifier(n_neighbors=k, metric=met).fit(X,Y)\n",
    "    return classifier"
   ]
  }
 ],
 "metadata": {
  "kernelspec": {
   "display_name": "base",
   "language": "python",
   "name": "python3"
  },
  "language_info": {
   "codemirror_mode": {
    "name": "ipython",
    "version": 3
   },
   "file_extension": ".py",
   "mimetype": "text/x-python",
   "name": "python",
   "nbconvert_exporter": "python",
   "pygments_lexer": "ipython3",
   "version": "3.12.4"
  }
 },
 "nbformat": 4,
 "nbformat_minor": 2
}
