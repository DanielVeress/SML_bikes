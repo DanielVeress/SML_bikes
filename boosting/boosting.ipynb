{
 "cells": [
  {
   "cell_type": "code",
   "execution_count": 2,
   "metadata": {},
   "outputs": [],
   "source": [
    "import numpy as np\n",
    "import matplotlib.pyplot as plt\n",
    "import sklearn\n",
    "\n",
    "from process_data import process_data"
   ]
  },
  {
   "cell_type": "code",
   "execution_count": 3,
   "metadata": {},
   "outputs": [
    {
     "name": "stdout",
     "output_type": "stream",
     "text": [
      "Dropped columns: ['snow']\n",
      "New columns: []\n",
      "Split: \"train\" \t[Size: 1120] \t[Prec: 0.7]\n",
      "\tX: (1120, 14)\n",
      "\tY: (1120,)\n",
      "Split: \"valid\" \t[Size: 239] \t[Prec: 0.149375]\n",
      "\tX: (239, 14)\n",
      "\tY: (239,)\n",
      "Split: \"test\" \t[Size: 241] \t[Prec: 0.150625]\n",
      "\tX: (241, 14)\n",
      "\tY: (241,)\n"
     ]
    }
   ],
   "source": [
    "X_train, X_valid, X_test, Y_train, Y_valid, Y_test = process_data()"
   ]
  },
  {
   "attachments": {},
   "cell_type": "markdown",
   "metadata": {},
   "source": [
    "# Boosting"
   ]
  },
  {
   "cell_type": "code",
   "execution_count": null,
   "metadata": {},
   "outputs": [],
   "source": []
  }
 ],
 "metadata": {
  "kernelspec": {
   "display_name": "env",
   "language": "python",
   "name": "python3"
  },
  "language_info": {
   "codemirror_mode": {
    "name": "ipython",
    "version": 3
   },
   "file_extension": ".py",
   "mimetype": "text/x-python",
   "name": "python",
   "nbconvert_exporter": "python",
   "pygments_lexer": "ipython3",
   "version": "3.11.5"
  },
  "orig_nbformat": 4
 },
 "nbformat": 4,
 "nbformat_minor": 2
}
